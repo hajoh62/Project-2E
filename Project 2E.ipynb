{
 "cells": [
  {
   "cell_type": "markdown",
   "metadata": {},
   "source": [
    "Project 2"
   ]
  },
  {
   "cell_type": "markdown",
   "metadata": {},
   "source": [
    "Scientific Question: On average, why is it that women get intoxicated quicker than men?"
   ]
  },
  {
   "cell_type": "markdown",
   "metadata": {},
   "source": [
    "Once ethanol is consumed, the ethanol goes through first-pass metabolism in the stomach. This gastric first-pass metabolism is dependent on gastric alcohol dehydrogenase activity levels. Alcohol dehydrogenase detoxifies alcohol, which is a toxin to our bodies. The alcohol is oxidized into acetaldehyde, which is quickly converted into acetate and other molecules that can be used for in our bodies. Missing components of ADH will lower ADH activity levels. (Baraona et al., 2001) Because women have lower ADH activity levels, they are not able to metabolize the ethanol as efficiently as men. Also, there are othe contributing factors to why females on average are quicker to be intoxicated compared to men, which include females having less total body mass and less water per body weight than men.\n",
    "\n",
    "The structures of glutathione-dependent formaldehyde dehydrogenase can be found in RCSB PDB: https://www.rcsb.org/ As stated on this databases website:\n",
    "\n",
    "\"This resource is powered by the Protein Data Bank archive-information about the 3D shapes of proteins, nucleic acids, and complex assemblies that helps students and researchers understand all aspects of biomedicine and agriculture, from protein synthesis to health and disease.\""
   ]
  },
  {
   "cell_type": "markdown",
   "metadata": {},
   "source": [
    "Scientific Hypothesis: If women have less alcohol dehydrogenase (ADH) activity levels in their stomach, then women are more susceptible to being intoxicated quicker compared to men."
   ]
  },
  {
   "cell_type": "markdown",
   "metadata": {},
   "source": [
    "For this study, volunteers were recruited of both genders. These volunteers drank alcohol orally, where their blood alcohol concentrations were monitored through breath analysis. As the blood alcohol concentrations were being monitored, they were able to see a curve of the blood alcohol concentrations decreasing. The area under the curve of blood alcohol concentratsion were calculated and compared between men and women.\n",
    "\n",
    "To answer my scientific question and hypothesis, I first had to plot the data from the breath analysis of blood alcohol concentrations, one for each men and women. Then, I had to calculate the area for each curve and compare those results using p-value."
   ]
  },
  {
   "cell_type": "markdown",
   "metadata": {},
   "source": [
    "Part 1: Loading in Packages"
   ]
  },
  {
   "cell_type": "markdown",
   "metadata": {},
   "source": [
    "Packages loaded include the following:\n",
    "Pandas: a fast, powerful, flexible and easy to use open source data analysis and manipulation tool,\n",
    "built on top of the Python programming language\n",
    "Numpy: a Python library used for working with arrays. It also has functions for working in domain of linear algebra, fourier transform, and matrices.\n",
    "Scipy: an open-source library used for solving mathematical, scientific, engineering, and technical problems. It allows users to manipulate the data and visualize the data using a wide range of high-level Python commands\n",
    "Matplotlib: a comprehensive library for creating static, animated, and interactive visualizations in Python"
   ]
  },
  {
   "cell_type": "code",
   "execution_count": 11,
   "metadata": {},
   "outputs": [],
   "source": [
    "import pandas as pd\n",
    "import numpy as np\n",
    "import scipy as scip\n",
    "from scipy.stats import f_oneway\n",
    "import matplotlib.pyplot as plt"
   ]
  },
  {
   "cell_type": "markdown",
   "metadata": {},
   "source": [
    "Part 2: Performing Bioinformatic Analysis"
   ]
  },
  {
   "cell_type": "markdown",
   "metadata": {},
   "source": [
    "In the code below, we are using the data displayed in an article, which I made an array for each category. For the men and women arrays, the first value is the mean of first-pass metabolism and the second value is the mean value is the area under the curve of blood alcohol concentration after oral.  Use f_oneway to run a one way ANOVA test to calculate the p-value."
   ]
  },
  {
   "cell_type": "code",
   "execution_count": 20,
   "metadata": {
    "scrolled": true
   },
   "outputs": [
    {
     "data": {
      "text/plain": [
       "F_onewayResult(statistic=0.0031441048034934467, pvalue=0.9603820125197586)"
      ]
     },
     "execution_count": 20,
     "metadata": {},
     "output_type": "execute_result"
    }
   ],
   "source": [
    "# mean of first-pass metabolism and area under the curve of blood alcohol concentration after oral in men\n",
    "men = [5.2, 8.1]\n",
    "# mean of first-pass metabolism and area under the curve of blood alcohol concentration after oral in women\n",
    "women = [1.2, 11.5]\n",
    "# ANOVA one way test to test the two groups if they have the same population mean, which outputs a p-value.\n",
    "scip.stats.f_oneway(men,women)"
   ]
  },
  {
   "cell_type": "markdown",
   "metadata": {},
   "source": [
    "Part 3: Plotting the Results"
   ]
  },
  {
   "cell_type": "markdown",
   "metadata": {},
   "source": [
    "We are using matplotlib to make a barplot, which will be printed out below. The x and y axes will be labeled as Gastric ADH Activity Groups and Gastric ADH Activity, respectively. I used a bar plot because it can show the difference gastric ADH activity levels next to each other so that it's easier to visualize the difference between women and men in gastric ADH levels."
   ]
  },
  {
   "cell_type": "code",
   "execution_count": 10,
   "metadata": {},
   "outputs": [
    {
     "data": {
      "image/png": "[encoded data removed]",
      "text/plain": [
       "<Figure size 720x360 with 1 Axes>"
      ]
     },
     "metadata": {
      "needs_background": "light"
     },
     "output_type": "display_data"
    }
   ],
   "source": [
    "# creating the dataset\n",
    "data = {'MenPerMilligramADH':0.046, 'MenMucosa':2.64, 'WomenPerMilligramOfADH':0.025, 'WomenMucosa':1.57}\n",
    "# creating list of keys of the dataset\n",
    "subject = list(data.keys())\n",
    "# creating list of values of the dataset\n",
    "values = list(data.values())\n",
    "# figure size\n",
    "fig = plt.figure(figsize = (10, 5))\n",
    "# horizontal bar plot\n",
    "plt.bar(subject, values, width = 0.4)\n",
    "# label the x-axis \n",
    "plt.xlabel(\"Gastric ADH Activity Groups\")\n",
    "# label the y-axis\n",
    "plt.ylabel(\"Mean Values of Gastric ADH Activity (nanomoles per min)\")\n",
    "# label the title of the plot\n",
    "plt.title(\"Difference in Gastric ADH Activity between Nonalcoholic Men and Women\")\n",
    "# display plot\n",
    "plt.show()"
   ]
  },
  {
   "cell_type": "markdown",
   "metadata": {},
   "source": [
    "Part 4: Analyzing the Results"
   ]
  },
  {
   "cell_type": "markdown",
   "metadata": {},
   "source": [
    "The barplot above illustrates the difference in gastric ADH activity levels between nonalcoholic men and women. Women had less gastric ADH activity levels due to a deficiency in glutathione-dependent formaldehyde dehydrogenase, which is a component of ADH. This data above was used When 500 mmol of ethanol per liter was used. At this concentration, sex played a role in the alcohol dehydrogenase activity of the endoscopic-biopsy samples from the gastric antrum. Clearly, men have higher ADH activity with its mean value of 2.64, while women had 1.57. The null hypothesis would be that women and men have the same likelihood of being intoxicated at the same rate. However, the p-value is statistically different (p < 0.01) between nonalcoholic men and women mean AUC of the blood ethanol concentrations after oral ingestion. Due to the p-value being less than 0.01 and reports that women and men are statistically differnet, the null hypothesis would be rejected. I need to find all the data so that my p-value matches their p-value. My hypothesis was correct and women do get intoxicated faster than men due to less activity in gastric alcohol dehydrogenase, where females have a deficiency in one of the ADH's components, glutathione-dependent formaldehyde dehydrogenase. Other avenues of research that I'd like to look into are if there are any changes in the mindest of women for drinking less because they cannot metabolize as efficiently or do they drink as much as men regardless."
   ]
  }
 ],
 "metadata": {
  "kernelspec": {
   "display_name": "Python 3",
   "language": "python",
   "name": "python3"
  },
  "language_info": {
   "codemirror_mode": {
    "name": "ipython",
    "version": 3
   },
   "file_extension": ".py",
   "mimetype": "text/x-python",
   "name": "python",
   "nbconvert_exporter": "python",
   "pygments_lexer": "ipython3",
   "version": "3.8.5"
  }
 },
 "nbformat": 4,
 "nbformat_minor": 4
}
